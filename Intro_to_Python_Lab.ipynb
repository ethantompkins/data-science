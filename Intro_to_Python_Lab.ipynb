{
 "cells": [
  {
   "cell_type": "markdown",
   "id": "83a08556",
   "metadata": {},
   "source": [
    "## Question 1\n",
    "\n",
    "Write a function is_divisible() with arguments start and end that prints the numbers starting from start to end (inclusive) in a single line each. If the number is divisible by 3, print \"Divisible by 3!\" instead of the number; if the number is divisible by 5, print \"Divisible by 5!\". Finally, if it is divisible by both, print \"GO Tigers!\" instead.\n",
    "\n",
    "Example is_divisible(7,16):"
   ]
  },
  {
   "cell_type": "code",
   "execution_count": 128,
   "id": "85619c61",
   "metadata": {},
   "outputs": [
    {
     "name": "stdout",
     "output_type": "stream",
     "text": [
      "7 8 9 10 11 12 13 14 15 16\n",
      "\n",
      "Go Tigers!\n",
      "\n",
      "Divisible by 3!\n",
      "\n",
      "Divisible by 5!\n"
     ]
    }
   ],
   "source": [
    "def is_divisible(start, end):\n",
    "    number = start / end\n",
    "    print(*range(start, end+1))\n",
    "\n",
    "    if (number % 3 == 0) and (number % 5 == 0):\n",
    "        print(\"Go Tigers!\")\n",
    "    elif number % 3 == 0:\n",
    "        print(\"Divisible by 3!\") \n",
    "    elif number % 5 == 0:\n",
    "         print(\"Divisible by 5!\")\n",
    "            \n",
    "is_divisible(7,16)\n",
    "\n"
   ]
  },
  {
   "cell_type": "markdown",
   "id": "451c8dc4",
   "metadata": {},
   "source": [
    "## Question 2. Reverse Given Inputs\n",
    "\n",
    "Write a function to reverse the given inputs without using reversed() or reverse() method.\n",
    "\n",
    "The return data type should be the same as the input data type, i.e., String should be returned as a string, and List should be returned as a List."
   ]
  },
  {
   "cell_type": "code",
   "execution_count": 108,
   "id": "fedce618",
   "metadata": {},
   "outputs": [],
   "source": [
    "def reverse_input(input_param):\n",
    "    return input_param[::-1]\n",
    "\n"
   ]
  },
  {
   "cell_type": "code",
   "execution_count": 109,
   "id": "6ed56984",
   "metadata": {},
   "outputs": [
    {
     "name": "stdout",
     "output_type": "stream",
     "text": [
      "GFEDCBA\n",
      "['G', 'F', 'E', 'D', 'C', 'B', 'A']\n",
      "[10, 9, 8, 6, 5, 4, 3, 2, 1]\n"
     ]
    }
   ],
   "source": [
    "print(reverse_input('ABCDEFG'))\n",
    "print(reverse_input(['A', 'B', 'C', 'D' , 'E', 'F', 'G']))\n",
    "print(reverse_input([1, 2, 3, 4, 5, 6, 8, 9, 10]))"
   ]
  },
  {
   "cell_type": "markdown",
   "id": "de9fcf34",
   "metadata": {},
   "source": [
    "## Question 3. Skipped Characters\n",
    "\n",
    "Write a function that takes a string as an input and uses a stride value of 2 to create a new string using every second character of the given string."
   ]
  },
  {
   "cell_type": "code",
   "execution_count": 129,
   "id": "c3c2db4a",
   "metadata": {},
   "outputs": [],
   "source": [
    "def skip_characters(a):\n",
    "    return a[::2]\n",
    "    pass"
   ]
  },
  {
   "cell_type": "code",
   "execution_count": 130,
   "id": "75032ae0",
   "metadata": {},
   "outputs": [
    {
     "name": "stdout",
     "output_type": "stream",
     "text": [
      "correct\n",
      "wrong\n"
     ]
    }
   ],
   "source": [
    "print(skip_characters('clocrkr1e1c1t')) # should return the word 'correct'\n",
    "print(skip_characters('wlrcokn1g')) # should return the word 'wrong'"
   ]
  },
  {
   "cell_type": "markdown",
   "id": "f27071e8",
   "metadata": {},
   "source": [
    "## Question 4. Unique Character Index\n",
    "Write a function that takes a string that may or may not contain duplicate characters \n",
    "and return the index of the first unique character in the string. If there are no duplicate characters, return a string \"No unique character\"\n",
    "\n",
    "Hint: You can use dictionary "
   ]
  },
  {
   "cell_type": "code",
   "execution_count": 158,
   "id": "9b15d2de",
   "metadata": {},
   "outputs": [],
   "source": [
    "def find_first_unique_character(string):\n",
    "    char_count = {}\n",
    "    for i, char in enumerate(string):\n",
    "        if char in char_count:\n",
    "            char_count[char] += 1 \n",
    "        else:\n",
    "            char_count[char] = 1\n",
    "    for i, char in enumerate(string):\n",
    "        if char_count[char] == 1:\n",
    "            return i\n",
    "    return \"No unique character\"\n",
    "    pass"
   ]
  },
  {
   "cell_type": "code",
   "execution_count": 159,
   "id": "c9c29c6b",
   "metadata": {},
   "outputs": [
    {
     "name": "stdout",
     "output_type": "stream",
     "text": [
      "0\n",
      "3\n",
      "No unique character\n"
     ]
    }
   ],
   "source": [
    "print(find_first_unique_character('clemson')) # return 0, since every character is unique, and c is the first unique character\n",
    "print(find_first_unique_character('applieddatascience')) # return 3, character 'l'\n",
    "print(find_first_unique_character('cclleemmssoonn')) # return \"No unique character\""
   ]
  },
  {
   "cell_type": "markdown",
   "id": "6bb4baa0",
   "metadata": {},
   "source": [
    "## Question 5. Convert character case\n",
    "\n",
    "Write a function that takes a string containing both upper and lower characters and converts the lower case character to upper case and vice versa. Return the converted string"
   ]
  },
  {
   "cell_type": "code",
   "execution_count": 123,
   "id": "02f767f3",
   "metadata": {},
   "outputs": [],
   "source": [
    "def convert_case(string):\n",
    "    return string.swapcase()\n",
    "    pass"
   ]
  },
  {
   "cell_type": "code",
   "execution_count": 124,
   "id": "a2a4ccb2",
   "metadata": {},
   "outputs": [
    {
     "name": "stdout",
     "output_type": "stream",
     "text": [
      "CLEMSON\n",
      "aPPLIEDdATAsCIENCE\n",
      "ClEmsOn\n"
     ]
    }
   ],
   "source": [
    "print(convert_case('clemson')) # return 'CLEMSON'\n",
    "print(convert_case('AppliedDataScience')) # return 'aPPLIEDdATAsCIENCE'\n",
    "print(convert_case('cLeMSoN')) # return 'ClEmsOn'"
   ]
  },
  {
   "cell_type": "markdown",
   "id": "ed8baa02",
   "metadata": {},
   "source": [
    "## Question 6. Remove duplicates\n",
    "\n",
    "Write a function that takes a list of integers/strings, removes the duplicate elements, and returns a list of unique elements."
   ]
  },
  {
   "cell_type": "code",
   "execution_count": 125,
   "id": "0098da8d",
   "metadata": {},
   "outputs": [],
   "source": [
    "def get_unique_numbers(numbers):\n",
    "    return list(dict.fromkeys(numbers))\n",
    "    pass"
   ]
  },
  {
   "cell_type": "code",
   "execution_count": 126,
   "id": "d0e875b0",
   "metadata": {},
   "outputs": [
    {
     "name": "stdout",
     "output_type": "stream",
     "text": [
      "[1, 2, 3, 4, 5]\n",
      "[1, 2, 3, 4, 5]\n",
      "[5, 4, 3, 2, 1]\n",
      "['a', 'b', 'c', 'd']\n"
     ]
    }
   ],
   "source": [
    "print(get_unique_numbers([1, 2, 3, 4, 5])) # return [1,2,3,4,5]\n",
    "print(get_unique_numbers([1, 1, 2, 2, 3, 3, 4, 4, 5, 5])) # return [1,2,3,4,5]\n",
    "print(get_unique_numbers([5, 5, 4, 3, 2, 2, 2, 2, 2, 2, 2, 1])) # return [5,4,3,2,1]\n",
    "print(get_unique_numbers(['a', 'a', 'a', 'b', 'b', 'b', 'c', 'c', 'c', 'd', 'd', 'd'])) # return ['a', 'b', 'c', 'd']"
   ]
  },
  {
   "cell_type": "markdown",
   "id": "675d5529",
   "metadata": {},
   "source": [
    "## Question 7, Print Elements\n",
    "\n",
    "Write a function print_elements(l) that prints every element of the list elements. If an element is a list by itself, the list of elements should be printed one by one instead of printing the whole list of elements at once. To find out if a variable x is a list, use type(x). Note that the function should not return anything!\n",
    "\n",
    "Eg: [1, \"hello\"] should be printed as 1, then \"hello\", instead"
   ]
  },
  {
   "cell_type": "code",
   "execution_count": 162,
   "id": "98becbae",
   "metadata": {},
   "outputs": [],
   "source": [
    "def print_elements(elements):\n",
    "    for i in elements:\n",
    "        if type(i) == list: \n",
    "            print_elements(i)\n",
    "        else:\n",
    "            print(i)\n",
    "    pass"
   ]
  },
  {
   "cell_type": "code",
   "execution_count": 163,
   "id": "f1adc3dd",
   "metadata": {},
   "outputs": [
    {
     "name": "stdout",
     "output_type": "stream",
     "text": [
      "1\n",
      "hello\n",
      "3\n",
      "4\n",
      "5\n",
      "6\n",
      "1\n",
      "2\n",
      "3\n"
     ]
    }
   ],
   "source": [
    "print_elements([[1,\"hello\"], 3, [4,5,6],[1,[2,[3]]]])"
   ]
  }
 ],
 "metadata": {
  "kernelspec": {
   "display_name": "Python 3",
   "language": "python",
   "name": "python3"
  },
  "language_info": {
   "codemirror_mode": {
    "name": "ipython",
    "version": 3
   },
   "file_extension": ".py",
   "mimetype": "text/x-python",
   "name": "python",
   "nbconvert_exporter": "python",
   "pygments_lexer": "ipython3",
   "version": "3.10.2"
  },
  "vscode": {
   "interpreter": {
    "hash": "aee8b7b246df8f9039afb4144a1f6fd8d2ca17a180786b69acc140d282b71a49"
   }
  }
 },
 "nbformat": 4,
 "nbformat_minor": 5
}
